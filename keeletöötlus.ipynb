{
 "cells": [
  {
   "cell_type": "code",
   "execution_count": null,
   "id": "e9b01165",
   "metadata": {},
   "outputs": [],
   "source": [
    "!pip install estnltk==1.7.2"
   ]
  },
  {
   "cell_type": "code",
   "execution_count": 3,
   "id": "32f23045",
   "metadata": {},
   "outputs": [],
   "source": [
    "from estnltk.wordnet import Wordnet\n",
    "import random\n",
    "import re\n",
    "import json\n",
    "import html"
   ]
  },
  {
   "cell_type": "code",
   "execution_count": 4,
   "id": "3fa8d397",
   "metadata": {},
   "outputs": [
    {
     "name": "stderr",
     "output_type": "stream",
     "text": [
      "Downloading resources index: 20.1kB [00:00, ?B/s]\n"
     ]
    }
   ],
   "source": [
    "wn = Wordnet()\n",
    "\n",
    "def contains_numbers_or_dot(word):\n",
    "    pattern = r'[0-9.]'\n",
    "    return bool(re.search(pattern, word))\n",
    "\n",
    "uniqdict = {}\n",
    "for i, synset in enumerate(wn):\n",
    "    if \" \" in synset.name or \"-\" in synset.name:\n",
    "        continue\n",
    "    splitted = synset.name.split(\".\")[0]\n",
    "    try:\n",
    "        definition = wn[splitted][0].definition\n",
    "    except IndexError:\n",
    "        continue\n",
    "    if definition is None:\n",
    "        continue\n",
    "    if contains_numbers_or_dot(splitted):\n",
    "        continue\n",
    "    if len(splitted) > 17:\n",
    "        continue\n",
    "    uniqdict[splitted] = definition\n",
    "    "
   ]
  },
  {
   "cell_type": "code",
   "execution_count": 5,
   "id": "cf46a663",
   "metadata": {},
   "outputs": [],
   "source": [
    "alphabeticDict = {}\n",
    "\n",
    "def checkCorrectWordConstruct(word):\n",
    "    if not re.fullmatch(r'[a-zõüöä]+', word):\n",
    "        return False\n",
    "    return True\n",
    "\n",
    "for key in uniqdict:\n",
    "    if checkCorrectWordConstruct(key):\n",
    "        alphabetically = ''.join(sorted(set(key)))\n",
    "        alphabeticDict[alphabetically] = key + \"::\" + uniqdict[key]\n"
   ]
  },
  {
   "cell_type": "code",
   "execution_count": 6,
   "id": "27f2a111",
   "metadata": {},
   "outputs": [],
   "source": [
    "with open('definitions.json', 'w', encoding=\"utf-8\") as file:\n",
    "    json.dump(alphabeticDict, file)"
   ]
  },
  {
   "cell_type": "code",
   "execution_count": 9,
   "id": "9058b935",
   "metadata": {},
   "outputs": [],
   "source": [
    "file_path = \"koik_lehed\"\n",
    "\n",
    "def is_valid_sentence(sentence):\n",
    "    words = sentence.split(' ')\n",
    "    for word in words:\n",
    "        if not re.fullmatch(r'[a-zõüöäA-ZÕÜÖÄ]+\\-?\\s?', word):\n",
    "            return False\n",
    "        if re.fullmatch(r'[A-ZÕÜÖÄ\\-]\\s?', word):\n",
    "            return False\n",
    "        uppercase_count = sum(1 for char in word if char.isupper())\n",
    "        if uppercase_count > 1:\n",
    "            return False\n",
    "        if len(word) > 17 or len(word) < 2:\n",
    "            return False\n",
    "    return True\n",
    "\n",
    "def trim_sentence_end(sentence):\n",
    "    trimmed_sentence = re.sub(r'[^a-zõüöäA-ZÕÜÖÄ]+$', '', sentence)\n",
    "    return trimmed_sentence\n",
    "\n",
    "checked_sentences = []\n",
    "\n",
    "with open(file_path, 'r', encoding='iso-8859-1') as file:\n",
    "    for line in file:\n",
    "        parts = line.split('     ', 1)\n",
    "        if len(parts) == 1:\n",
    "            parts = line.split('    ', 1)\n",
    "        if len(parts) == 1:\n",
    "            parts = line.split('   ', 1)\n",
    "        if len(parts) == 2:\n",
    "            identifier, content = parts\n",
    "            try:\n",
    "                decoded_content = html.unescape(content)\n",
    "                \n",
    "                sentence = decoded_content.strip()\n",
    "                sentence = trim_sentence_end(sentence)\n",
    "                    \n",
    "                words = sentence.split()\n",
    "                \n",
    "                if len(words) >= 4 and len(words) <= 8:\n",
    "                    if is_valid_sentence(sentence):\n",
    "                        checked_sentences.append(sentence)\n",
    "                    else:\n",
    "                        continue\n",
    "                    \n",
    "            except UnicodeDecodeError as e:\n",
    "                print(\"UnicodeDecodeError:\", e)\n",
    "        else:\n",
    "            print(\"Invalid line format:\", line)"
   ]
  },
  {
   "cell_type": "code",
   "execution_count": 10,
   "id": "8ca6ae84",
   "metadata": {},
   "outputs": [],
   "source": [
    "with open(\"sentences.txt\", \"w\", encoding=\"utf-8\") as file:\n",
    "    for sent in checked_sentences:\n",
    "        file.write(f\"{sent}\\n\")"
   ]
  },
  {
   "cell_type": "code",
   "execution_count": 11,
   "id": "c3b2998e",
   "metadata": {},
   "outputs": [
    {
     "name": "stdout",
     "output_type": "stream",
     "text": [
      "44559\n",
      "57633\n"
     ]
    }
   ],
   "source": [
    "print(len(alphabeticDict))\n",
    "print(len(checked_sentences))"
   ]
  }
 ],
 "metadata": {
  "kernelspec": {
   "display_name": "Python 3 (ipykernel)",
   "language": "python",
   "name": "python3"
  },
  "language_info": {
   "codemirror_mode": {
    "name": "ipython",
    "version": 3
   },
   "file_extension": ".py",
   "mimetype": "text/x-python",
   "name": "python",
   "nbconvert_exporter": "python",
   "pygments_lexer": "ipython3",
   "version": "3.11.7"
  }
 },
 "nbformat": 4,
 "nbformat_minor": 5
}
